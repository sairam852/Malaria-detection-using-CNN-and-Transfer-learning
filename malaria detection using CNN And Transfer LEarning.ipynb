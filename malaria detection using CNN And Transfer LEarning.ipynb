{
 "cells": [
  {
   "cell_type": "markdown",
   "metadata": {},
   "source": [
    "## Creating CNN Using Scratch And Transfer Learning"
   ]
  },
  {
   "cell_type": "markdown",
   "metadata": {},
   "source": [
    "Please download the dataset from the below url"
   ]
  },
  {
   "cell_type": "code",
   "execution_count": 1,
   "metadata": {},
   "outputs": [],
   "source": [
    "# import the libraries as shown below\n",
    "\n",
    "from tensorflow.keras.layers import Input, Lambda, Dense, Flatten,Conv2D\n",
    "from tensorflow.keras.models import Model\n",
    "from tensorflow.keras.applications.vgg19 import VGG19\n",
    "from tensorflow.keras.applications.resnet50 import preprocess_input\n",
    "from tensorflow.keras.preprocessing import image\n",
    "from tensorflow.keras.preprocessing.image import ImageDataGenerator,load_img\n",
    "from tensorflow.keras.models import Sequential\n",
    "import numpy as np\n",
    "from glob import glob\n",
    "import matplotlib.pyplot as plt"
   ]
  },
  {
   "cell_type": "code",
   "execution_count": null,
   "metadata": {},
   "outputs": [],
   "source": [
    "# re-size all the images to this\n",
    "IMAGE_SIZE = [224, 224]\n",
    "\n",
    "train_path = 'cell_images/Train'\n",
    "valid_path = 'cell_images/Test'\n",
    "import tenserflow as tf\n",
    "print(tf.__version__)"
   ]
  },
  {
   "cell_type": "code",
   "execution_count": 3,
   "metadata": {},
   "outputs": [
    {
     "name": "stdout",
     "output_type": "stream",
     "text": [
      "Downloading data from https://github.com/fchollet/deep-learning-models/releases/download/v0.1/vgg19_weights_tf_dim_ordering_tf_kernels_notop.h5\n",
      "80142336/80134624 [==============================] - 731s 9us/step\n"
     ]
    }
   ],
   "source": [
    "# Import the Vgg 16 library as shown below and add preprocessing layer to the front of VGG\n",
    "# Here we will be using imagenet weights\n",
    "\n",
    "vgg19= VGG19(input_shape=IMAGE_SIZE + [3], weights='imagenet', include_top=False)\n",
    "\n",
    "\n"
   ]
  },
  {
   "cell_type": "code",
   "execution_count": 7,
   "metadata": {},
   "outputs": [
    {
     "name": "stdout",
     "output_type": "stream",
     "text": [
      "Model: \"vgg19\"\n",
      "_________________________________________________________________\n",
      "Layer (type)                 Output Shape              Param #   \n",
      "=================================================================\n",
      "input_1 (InputLayer)         [(None, 224, 224, 3)]     0         \n",
      "_________________________________________________________________\n",
      "block1_conv1 (Conv2D)        (None, 224, 224, 64)      1792      \n",
      "_________________________________________________________________\n",
      "block1_conv2 (Conv2D)        (None, 224, 224, 64)      36928     \n",
      "_________________________________________________________________\n",
      "block1_pool (MaxPooling2D)   (None, 112, 112, 64)      0         \n",
      "_________________________________________________________________\n",
      "block2_conv1 (Conv2D)        (None, 112, 112, 128)     73856     \n",
      "_________________________________________________________________\n",
      "block2_conv2 (Conv2D)        (None, 112, 112, 128)     147584    \n",
      "_________________________________________________________________\n",
      "block2_pool (MaxPooling2D)   (None, 56, 56, 128)       0         \n",
      "_________________________________________________________________\n",
      "block3_conv1 (Conv2D)        (None, 56, 56, 256)       295168    \n",
      "_________________________________________________________________\n",
      "block3_conv2 (Conv2D)        (None, 56, 56, 256)       590080    \n",
      "_________________________________________________________________\n",
      "block3_conv3 (Conv2D)        (None, 56, 56, 256)       590080    \n",
      "_________________________________________________________________\n",
      "block3_conv4 (Conv2D)        (None, 56, 56, 256)       590080    \n",
      "_________________________________________________________________\n",
      "block3_pool (MaxPooling2D)   (None, 28, 28, 256)       0         \n",
      "_________________________________________________________________\n",
      "block4_conv1 (Conv2D)        (None, 28, 28, 512)       1180160   \n",
      "_________________________________________________________________\n",
      "block4_conv2 (Conv2D)        (None, 28, 28, 512)       2359808   \n",
      "_________________________________________________________________\n",
      "block4_conv3 (Conv2D)        (None, 28, 28, 512)       2359808   \n",
      "_________________________________________________________________\n",
      "block4_conv4 (Conv2D)        (None, 28, 28, 512)       2359808   \n",
      "_________________________________________________________________\n",
      "block4_pool (MaxPooling2D)   (None, 14, 14, 512)       0         \n",
      "_________________________________________________________________\n",
      "block5_conv1 (Conv2D)        (None, 14, 14, 512)       2359808   \n",
      "_________________________________________________________________\n",
      "block5_conv2 (Conv2D)        (None, 14, 14, 512)       2359808   \n",
      "_________________________________________________________________\n",
      "block5_conv3 (Conv2D)        (None, 14, 14, 512)       2359808   \n",
      "_________________________________________________________________\n",
      "block5_conv4 (Conv2D)        (None, 14, 14, 512)       2359808   \n",
      "_________________________________________________________________\n",
      "block5_pool (MaxPooling2D)   (None, 7, 7, 512)         0         \n",
      "=================================================================\n",
      "Total params: 20,024,384\n",
      "Trainable params: 20,024,384\n",
      "Non-trainable params: 0\n",
      "_________________________________________________________________\n"
     ]
    }
   ],
   "source": [
    "vgg19.summary()"
   ]
  },
  {
   "cell_type": "code",
   "execution_count": 8,
   "metadata": {},
   "outputs": [],
   "source": [
    "# don't train existing weights\n",
    "for layer in vgg19.layers:\n",
    "    layer.trainable = False"
   ]
  },
  {
   "cell_type": "code",
   "execution_count": 9,
   "metadata": {},
   "outputs": [],
   "source": [
    "  # useful for getting number of output classes\n",
    "folders = glob('Dataset/Train/*')"
   ]
  },
  {
   "cell_type": "code",
   "execution_count": 10,
   "metadata": {},
   "outputs": [
    {
     "data": {
      "text/plain": [
       "['Dataset/Train/Parasite', 'Dataset/Train/Uninfected']"
      ]
     },
     "execution_count": 10,
     "metadata": {},
     "output_type": "execute_result"
    }
   ],
   "source": [
    "folders"
   ]
  },
  {
   "cell_type": "code",
   "execution_count": 11,
   "metadata": {},
   "outputs": [],
   "source": [
    "# our layers - you can add more if you want\n",
    "x = Flatten()(vgg19.output)"
   ]
  },
  {
   "cell_type": "code",
   "execution_count": 12,
   "metadata": {},
   "outputs": [],
   "source": [
    "prediction = Dense(len(folders), activation='softmax')(x)\n",
    "\n",
    "# create a model object\n",
    "model = Model(inputs=vgg19.input, outputs=prediction)"
   ]
  },
  {
   "cell_type": "code",
   "execution_count": 13,
   "metadata": {},
   "outputs": [
    {
     "name": "stdout",
     "output_type": "stream",
     "text": [
      "Model: \"model\"\n",
      "_________________________________________________________________\n",
      "Layer (type)                 Output Shape              Param #   \n",
      "=================================================================\n",
      "input_1 (InputLayer)         [(None, 224, 224, 3)]     0         \n",
      "_________________________________________________________________\n",
      "block1_conv1 (Conv2D)        (None, 224, 224, 64)      1792      \n",
      "_________________________________________________________________\n",
      "block1_conv2 (Conv2D)        (None, 224, 224, 64)      36928     \n",
      "_________________________________________________________________\n",
      "block1_pool (MaxPooling2D)   (None, 112, 112, 64)      0         \n",
      "_________________________________________________________________\n",
      "block2_conv1 (Conv2D)        (None, 112, 112, 128)     73856     \n",
      "_________________________________________________________________\n",
      "block2_conv2 (Conv2D)        (None, 112, 112, 128)     147584    \n",
      "_________________________________________________________________\n",
      "block2_pool (MaxPooling2D)   (None, 56, 56, 128)       0         \n",
      "_________________________________________________________________\n",
      "block3_conv1 (Conv2D)        (None, 56, 56, 256)       295168    \n",
      "_________________________________________________________________\n",
      "block3_conv2 (Conv2D)        (None, 56, 56, 256)       590080    \n",
      "_________________________________________________________________\n",
      "block3_conv3 (Conv2D)        (None, 56, 56, 256)       590080    \n",
      "_________________________________________________________________\n",
      "block3_conv4 (Conv2D)        (None, 56, 56, 256)       590080    \n",
      "_________________________________________________________________\n",
      "block3_pool (MaxPooling2D)   (None, 28, 28, 256)       0         \n",
      "_________________________________________________________________\n",
      "block4_conv1 (Conv2D)        (None, 28, 28, 512)       1180160   \n",
      "_________________________________________________________________\n",
      "block4_conv2 (Conv2D)        (None, 28, 28, 512)       2359808   \n",
      "_________________________________________________________________\n",
      "block4_conv3 (Conv2D)        (None, 28, 28, 512)       2359808   \n",
      "_________________________________________________________________\n",
      "block4_conv4 (Conv2D)        (None, 28, 28, 512)       2359808   \n",
      "_________________________________________________________________\n",
      "block4_pool (MaxPooling2D)   (None, 14, 14, 512)       0         \n",
      "_________________________________________________________________\n",
      "block5_conv1 (Conv2D)        (None, 14, 14, 512)       2359808   \n",
      "_________________________________________________________________\n",
      "block5_conv2 (Conv2D)        (None, 14, 14, 512)       2359808   \n",
      "_________________________________________________________________\n",
      "block5_conv3 (Conv2D)        (None, 14, 14, 512)       2359808   \n",
      "_________________________________________________________________\n",
      "block5_conv4 (Conv2D)        (None, 14, 14, 512)       2359808   \n",
      "_________________________________________________________________\n",
      "block5_pool (MaxPooling2D)   (None, 7, 7, 512)         0         \n",
      "_________________________________________________________________\n",
      "flatten (Flatten)            (None, 25088)             0         \n",
      "_________________________________________________________________\n",
      "dense (Dense)                (None, 2)                 50178     \n",
      "=================================================================\n",
      "Total params: 20,074,562\n",
      "Trainable params: 50,178\n",
      "Non-trainable params: 20,024,384\n",
      "_________________________________________________________________\n"
     ]
    }
   ],
   "source": [
    "\n",
    "# view the structure of the model\n",
    "model.summary()\n"
   ]
  },
  {
   "cell_type": "code",
   "execution_count": 14,
   "metadata": {},
   "outputs": [],
   "source": [
    "from tensorflow.keras.layers import MaxPooling2D"
   ]
  },
  {
   "cell_type": "code",
   "execution_count": 15,
   "metadata": {},
   "outputs": [
    {
     "name": "stdout",
     "output_type": "stream",
     "text": [
      "Model: \"sequential\"\n",
      "_________________________________________________________________\n",
      "Layer (type)                 Output Shape              Param #   \n",
      "=================================================================\n",
      "conv2d (Conv2D)              (None, 224, 224, 16)      208       \n",
      "_________________________________________________________________\n",
      "max_pooling2d (MaxPooling2D) (None, 112, 112, 16)      0         \n",
      "_________________________________________________________________\n",
      "conv2d_1 (Conv2D)            (None, 112, 112, 32)      2080      \n",
      "_________________________________________________________________\n",
      "max_pooling2d_1 (MaxPooling2 (None, 56, 56, 32)        0         \n",
      "_________________________________________________________________\n",
      "conv2d_2 (Conv2D)            (None, 56, 56, 64)        8256      \n",
      "_________________________________________________________________\n",
      "max_pooling2d_2 (MaxPooling2 (None, 28, 28, 64)        0         \n",
      "_________________________________________________________________\n",
      "flatten_1 (Flatten)          (None, 50176)             0         \n",
      "_________________________________________________________________\n",
      "dense_1 (Dense)              (None, 500)               25088500  \n",
      "_________________________________________________________________\n",
      "dense_2 (Dense)              (None, 2)                 1002      \n",
      "=================================================================\n",
      "Total params: 25,100,046\n",
      "Trainable params: 25,100,046\n",
      "Non-trainable params: 0\n",
      "_________________________________________________________________\n"
     ]
    }
   ],
   "source": [
    "### Create Model from scratch using CNN\n",
    "model=Sequential()\n",
    "model.add(Conv2D(filters=16,kernel_size=2,padding=\"same\",activation=\"relu\",input_shape=(224,224,3)))\n",
    "model.add(MaxPooling2D(pool_size=2))\n",
    "model.add(Conv2D(filters=32,kernel_size=2,padding=\"same\",activation =\"relu\"))\n",
    "model.add(MaxPooling2D(pool_size=2))\n",
    "model.add(Conv2D(filters=64,kernel_size=2,padding=\"same\",activation=\"relu\"))\n",
    "model.add(MaxPooling2D(pool_size=2))\n",
    "model.add(Flatten())\n",
    "model.add(Dense(500,activation=\"relu\"))\n",
    "model.add(Dense(2,activation=\"softmax\"))\n",
    "model.summary()"
   ]
  },
  {
   "cell_type": "code",
   "execution_count": 16,
   "metadata": {},
   "outputs": [],
   "source": [
    "# tell the model what cost and optimization method to use\n",
    "model.compile(\n",
    "  loss='categorical_crossentropy',\n",
    "  optimizer='adam',\n",
    "  metrics=['accuracy']\n",
    ")\n"
   ]
  },
  {
   "cell_type": "code",
   "execution_count": 17,
   "metadata": {},
   "outputs": [],
   "source": [
    "# Use the Image Data Generator to import the images from the dataset\n",
    "from tensorflow.keras.preprocessing.image import ImageDataGenerator\n",
    "\n",
    "train_datagen = ImageDataGenerator(rescale = 1./255,\n",
    "                                   shear_range = 0.2,\n",
    "                                   zoom_range = 0.2,\n",
    "                                   horizontal_flip = True)\n",
    "\n",
    "test_datagen = ImageDataGenerator(rescale = 1./255)"
   ]
  },
  {
   "cell_type": "code",
   "execution_count": 18,
   "metadata": {},
   "outputs": [
    {
     "name": "stdout",
     "output_type": "stream",
     "text": [
      "Found 416 images belonging to 2 classes.\n"
     ]
    }
   ],
   "source": [
    "# Make sure you provide the same target size as initialied for the image size\n",
    "training_set = train_datagen.flow_from_directory('Dataset/Train',\n",
    "                                                 target_size = (224, 224),\n",
    "                                                 batch_size = 32,\n",
    "                                                 class_mode = 'categorical')"
   ]
  },
  {
   "cell_type": "code",
   "execution_count": 24,
   "metadata": {},
   "outputs": [
    {
     "data": {
      "text/plain": [
       "<keras_preprocessing.image.directory_iterator.DirectoryIterator at 0x7fce9801afd0>"
      ]
     },
     "execution_count": 24,
     "metadata": {},
     "output_type": "execute_result"
    }
   ],
   "source": [
    "training_set"
   ]
  },
  {
   "cell_type": "code",
   "execution_count": 25,
   "metadata": {},
   "outputs": [
    {
     "name": "stdout",
     "output_type": "stream",
     "text": [
      "Found 134 images belonging to 2 classes.\n"
     ]
    }
   ],
   "source": [
    "test_set = test_datagen.flow_from_directory('Dataset/Test',\n",
    "                                            target_size = (224, 224),\n",
    "                                            batch_size = 32,\n",
    "                                            class_mode = 'categorical')"
   ]
  },
  {
   "cell_type": "code",
   "execution_count": 27,
   "metadata": {
    "scrolled": true
   },
   "outputs": [
    {
     "name": "stdout",
     "output_type": "stream",
     "text": [
      "WARNING:tensorflow:From <ipython-input-27-69229fe26ea3>:8: Model.fit_generator (from tensorflow.python.keras.engine.training) is deprecated and will be removed in a future version.\n",
      "Instructions for updating:\n",
      "Please use Model.fit, which supports generators.\n",
      "WARNING:tensorflow:sample_weight modes were coerced from\n",
      "  ...\n",
      "    to  \n",
      "  ['...']\n",
      "WARNING:tensorflow:sample_weight modes were coerced from\n",
      "  ...\n",
      "    to  \n",
      "  ['...']\n",
      "Train for 13 steps, validate for 5 steps\n",
      "Epoch 1/50\n",
      "13/13 [==============================] - 39s 3s/step - loss: 1.2458 - accuracy: 0.5120 - val_loss: 0.7429 - val_accuracy: 0.4104\n",
      "Epoch 2/50\n",
      "13/13 [==============================] - 37s 3s/step - loss: 0.5724 - accuracy: 0.7043 - val_loss: 0.8196 - val_accuracy: 0.3507\n",
      "Epoch 3/50\n",
      "13/13 [==============================] - 31s 2s/step - loss: 0.4433 - accuracy: 0.7788 - val_loss: 0.9435 - val_accuracy: 0.4403\n",
      "Epoch 4/50\n",
      "13/13 [==============================] - 34s 3s/step - loss: 0.3890 - accuracy: 0.8293 - val_loss: 0.5527 - val_accuracy: 0.6418\n",
      "Epoch 5/50\n",
      "13/13 [==============================] - 37s 3s/step - loss: 0.3324 - accuracy: 0.8654 - val_loss: 0.6916 - val_accuracy: 0.6045\n",
      "Epoch 6/50\n",
      "13/13 [==============================] - 38s 3s/step - loss: 0.2878 - accuracy: 0.8894 - val_loss: 0.5063 - val_accuracy: 0.6866\n",
      "Epoch 7/50\n",
      "13/13 [==============================] - 39s 3s/step - loss: 0.2456 - accuracy: 0.9087 - val_loss: 0.4673 - val_accuracy: 0.7612\n",
      "Epoch 8/50\n",
      "13/13 [==============================] - 39s 3s/step - loss: 0.1789 - accuracy: 0.9255 - val_loss: 0.3134 - val_accuracy: 0.8209\n",
      "Epoch 9/50\n",
      "13/13 [==============================] - 36s 3s/step - loss: 0.1700 - accuracy: 0.9327 - val_loss: 0.4514 - val_accuracy: 0.8134\n",
      "Epoch 10/50\n",
      "13/13 [==============================] - 37s 3s/step - loss: 0.1254 - accuracy: 0.9663 - val_loss: 0.3010 - val_accuracy: 0.8507\n",
      "Epoch 11/50\n",
      "13/13 [==============================] - 37s 3s/step - loss: 0.1247 - accuracy: 0.9519 - val_loss: 0.4424 - val_accuracy: 0.8134\n",
      "Epoch 12/50\n",
      "13/13 [==============================] - 37s 3s/step - loss: 0.1242 - accuracy: 0.9615 - val_loss: 0.2584 - val_accuracy: 0.8731\n",
      "Epoch 13/50\n",
      "13/13 [==============================] - 40s 3s/step - loss: 0.0849 - accuracy: 0.9712 - val_loss: 0.4710 - val_accuracy: 0.8433\n",
      "Epoch 14/50\n",
      "13/13 [==============================] - 37s 3s/step - loss: 0.1272 - accuracy: 0.9663 - val_loss: 0.3325 - val_accuracy: 0.8881\n",
      "Epoch 15/50\n",
      "13/13 [==============================] - 39s 3s/step - loss: 0.1108 - accuracy: 0.9688 - val_loss: 0.2463 - val_accuracy: 0.8955\n",
      "Epoch 16/50\n",
      "13/13 [==============================] - 37s 3s/step - loss: 0.0961 - accuracy: 0.9760 - val_loss: 0.1908 - val_accuracy: 0.9104\n",
      "Epoch 17/50\n",
      "13/13 [==============================] - 37s 3s/step - loss: 0.0625 - accuracy: 0.9856 - val_loss: 0.2308 - val_accuracy: 0.9030\n",
      "Epoch 18/50\n",
      "13/13 [==============================] - 38s 3s/step - loss: 0.0949 - accuracy: 0.9663 - val_loss: 0.2244 - val_accuracy: 0.8955\n",
      "Epoch 19/50\n",
      "13/13 [==============================] - 38s 3s/step - loss: 0.0744 - accuracy: 0.9856 - val_loss: 0.2448 - val_accuracy: 0.8955\n",
      "Epoch 20/50\n",
      "13/13 [==============================] - 38s 3s/step - loss: 0.0882 - accuracy: 0.9760 - val_loss: 0.3467 - val_accuracy: 0.8582\n",
      "Epoch 21/50\n",
      "13/13 [==============================] - 37s 3s/step - loss: 0.0932 - accuracy: 0.9712 - val_loss: 0.1727 - val_accuracy: 0.9104\n",
      "Epoch 22/50\n",
      "13/13 [==============================] - 38s 3s/step - loss: 0.0666 - accuracy: 0.9880 - val_loss: 0.4081 - val_accuracy: 0.8731\n",
      "Epoch 23/50\n",
      "13/13 [==============================] - 39s 3s/step - loss: 0.0625 - accuracy: 0.9808 - val_loss: 0.1594 - val_accuracy: 0.9254\n",
      "Epoch 24/50\n",
      "13/13 [==============================] - 37s 3s/step - loss: 0.0549 - accuracy: 0.9904 - val_loss: 0.3647 - val_accuracy: 0.8657\n",
      "Epoch 25/50\n",
      "13/13 [==============================] - 34s 3s/step - loss: 0.0502 - accuracy: 0.9880 - val_loss: 0.1996 - val_accuracy: 0.9179\n",
      "Epoch 26/50\n",
      "13/13 [==============================] - 34s 3s/step - loss: 0.0972 - accuracy: 0.9663 - val_loss: 0.2470 - val_accuracy: 0.8731\n",
      "Epoch 27/50\n",
      "13/13 [==============================] - 34s 3s/step - loss: 0.1003 - accuracy: 0.9784 - val_loss: 0.2829 - val_accuracy: 0.8806\n",
      "Epoch 28/50\n",
      "13/13 [==============================] - 39s 3s/step - loss: 0.0440 - accuracy: 0.9904 - val_loss: 0.2655 - val_accuracy: 0.9403\n",
      "Epoch 29/50\n",
      "13/13 [==============================] - 38s 3s/step - loss: 0.1106 - accuracy: 0.9736 - val_loss: 0.2504 - val_accuracy: 0.9030\n",
      "Epoch 30/50\n",
      "13/13 [==============================] - 40s 3s/step - loss: 0.0499 - accuracy: 0.9928 - val_loss: 0.1798 - val_accuracy: 0.9179\n",
      "Epoch 31/50\n",
      "13/13 [==============================] - 38s 3s/step - loss: 0.0375 - accuracy: 0.9928 - val_loss: 0.3786 - val_accuracy: 0.9030\n",
      "Epoch 32/50\n",
      "13/13 [==============================] - 39s 3s/step - loss: 0.0536 - accuracy: 0.9832 - val_loss: 0.2135 - val_accuracy: 0.9179\n",
      "Epoch 33/50\n",
      "13/13 [==============================] - 39s 3s/step - loss: 0.0289 - accuracy: 0.9952 - val_loss: 0.1824 - val_accuracy: 0.9254\n",
      "Epoch 34/50\n",
      "13/13 [==============================] - 38s 3s/step - loss: 0.0284 - accuracy: 0.9928 - val_loss: 0.3368 - val_accuracy: 0.9030\n",
      "Epoch 35/50\n",
      "13/13 [==============================] - 39s 3s/step - loss: 0.0202 - accuracy: 0.9928 - val_loss: 0.2054 - val_accuracy: 0.9254\n",
      "Epoch 36/50\n",
      "13/13 [==============================] - 39s 3s/step - loss: 0.0193 - accuracy: 0.9976 - val_loss: 0.2014 - val_accuracy: 0.9254\n",
      "Epoch 37/50\n",
      "13/13 [==============================] - 40s 3s/step - loss: 0.0213 - accuracy: 0.9952 - val_loss: 0.2171 - val_accuracy: 0.9254\n",
      "Epoch 38/50\n",
      "13/13 [==============================] - 39s 3s/step - loss: 0.0179 - accuracy: 0.9976 - val_loss: 0.2151 - val_accuracy: 0.9254\n",
      "Epoch 39/50\n",
      "13/13 [==============================] - 39s 3s/step - loss: 0.0182 - accuracy: 0.9976 - val_loss: 0.2211 - val_accuracy: 0.9254\n",
      "Epoch 40/50\n",
      "13/13 [==============================] - 38s 3s/step - loss: 0.0162 - accuracy: 0.9976 - val_loss: 0.2055 - val_accuracy: 0.9254\n",
      "Epoch 41/50\n",
      "13/13 [==============================] - 39s 3s/step - loss: 0.0153 - accuracy: 0.9976 - val_loss: 0.2253 - val_accuracy: 0.9254\n",
      "Epoch 42/50\n",
      "13/13 [==============================] - 39s 3s/step - loss: 0.0254 - accuracy: 0.9952 - val_loss: 0.1774 - val_accuracy: 0.9328\n",
      "Epoch 43/50\n",
      "13/13 [==============================] - 39s 3s/step - loss: 0.0202 - accuracy: 0.9952 - val_loss: 0.1908 - val_accuracy: 0.9328\n",
      "Epoch 44/50\n",
      "13/13 [==============================] - 38s 3s/step - loss: 0.0162 - accuracy: 0.9976 - val_loss: 0.2766 - val_accuracy: 0.9179\n",
      "Epoch 45/50\n",
      "13/13 [==============================] - 39s 3s/step - loss: 0.0148 - accuracy: 0.9976 - val_loss: 0.1993 - val_accuracy: 0.9403\n",
      "Epoch 46/50\n",
      "13/13 [==============================] - 39s 3s/step - loss: 0.0153 - accuracy: 0.9976 - val_loss: 0.2841 - val_accuracy: 0.9104\n",
      "Epoch 47/50\n",
      "13/13 [==============================] - 40s 3s/step - loss: 0.0137 - accuracy: 0.9976 - val_loss: 0.2370 - val_accuracy: 0.9254\n",
      "Epoch 48/50\n",
      "13/13 [==============================] - 36s 3s/step - loss: 0.0134 - accuracy: 0.9976 - val_loss: 0.3069 - val_accuracy: 0.9254\n",
      "Epoch 49/50\n",
      "13/13 [==============================] - 31s 2s/step - loss: 0.0154 - accuracy: 0.9976 - val_loss: 0.2082 - val_accuracy: 0.9552\n",
      "Epoch 50/50\n",
      "13/13 [==============================] - 31s 2s/step - loss: 0.0152 - accuracy: 0.9976 - val_loss: 0.2523 - val_accuracy: 0.9254\n"
     ]
    }
   ],
   "source": [
    "# fit the model\n",
    "# Run the cell. It will take some time to execute\n",
    "r = model.fit_generator(\n",
    "  training_set,\n",
    "  validation_data=test_set,\n",
    "  epochs=50,\n",
    "  steps_per_epoch=len(training_set),\n",
    "  validation_steps=len(test_set)\n",
    ")"
   ]
  },
  {
   "cell_type": "code",
   "execution_count": null,
   "metadata": {},
   "outputs": [],
   "source": []
  },
  {
   "cell_type": "code",
   "execution_count": 28,
   "metadata": {},
   "outputs": [
    {
     "data": {
      "image/png": "[encoded data removed]",
      "text/plain": [
       "<Figure size 432x288 with 1 Axes>"
      ]
     },
     "metadata": {
      "needs_background": "light"
     },
     "output_type": "display_data"
    },
    {
     "data": {
      "image/png": "[encoded data removed]",
      "text/plain": [
       "<Figure size 432x288 with 1 Axes>"
      ]
     },
     "metadata": {
      "needs_background": "light"
     },
     "output_type": "display_data"
    },
    {
     "data": {
      "text/plain": [
       "<Figure size 432x288 with 0 Axes>"
      ]
     },
     "metadata": {},
     "output_type": "display_data"
    }
   ],
   "source": [
    "# plot the loss\n",
    "plt.plot(r.history['loss'], label='train loss')\n",
    "plt.plot(r.history['val_loss'], label='val loss')\n",
    "plt.legend()\n",
    "plt.show()\n",
    "plt.savefig('LossVal_loss')\n",
    "\n",
    "# plot the accuracy\n",
    "plt.plot(r.history['accuracy'], label='train acc')\n",
    "plt.plot(r.history['val_accuracy'], label='val acc')\n",
    "plt.legend()\n",
    "plt.show()\n",
    "plt.savefig('AccVal_acc')"
   ]
  },
  {
   "cell_type": "code",
   "execution_count": 29,
   "metadata": {},
   "outputs": [],
   "source": [
    "# save it as a h5 file\n",
    "\n",
    "\n",
    "from tensorflow.keras.models import load_model\n",
    "\n",
    "model.save('model_vgg19.h5')"
   ]
  },
  {
   "cell_type": "code",
   "execution_count": null,
   "metadata": {},
   "outputs": [],
   "source": []
  },
  {
   "cell_type": "code",
   "execution_count": 30,
   "metadata": {},
   "outputs": [],
   "source": [
    "\n",
    "y_pred = model.predict(test_set)\n"
   ]
  },
  {
   "cell_type": "code",
   "execution_count": 31,
   "metadata": {},
   "outputs": [
    {
     "data": {
      "text/plain": [
       "array([[1.0000000e+00, 1.2410789e-14],\n",
       "       [1.0000000e+00, 1.6414535e-16],\n",
       "       [1.0000000e+00, 1.7635665e-09],\n",
       "       [1.0000000e+00, 9.8624227e-20],\n",
       "       [3.4514859e-01, 6.5485144e-01],\n",
       "       [2.5837536e-03, 9.9741626e-01],\n",
       "       [1.0068595e-03, 9.9899310e-01],\n",
       "       [1.8838699e-03, 9.9811614e-01],\n",
       "       [1.0000000e+00, 2.3484982e-28],\n",
       "       [8.8176494e-03, 9.9118233e-01],\n",
       "       [1.5644224e-03, 9.9843556e-01],\n",
       "       [1.0000000e+00, 0.0000000e+00],\n",
       "       [3.1231433e-01, 6.8768561e-01],\n",
       "       [2.0249623e-03, 9.9797505e-01],\n",
       "       [1.0000000e+00, 2.9545558e-13],\n",
       "       [4.1283408e-04, 9.9958712e-01],\n",
       "       [7.3159790e-01, 2.6840210e-01],\n",
       "       [1.0000000e+00, 2.2995771e-08],\n",
       "       [9.9999988e-01, 6.2304608e-08],\n",
       "       [2.3666620e-03, 9.9763334e-01],\n",
       "       [1.0000000e+00, 1.4247923e-09],\n",
       "       [2.6946096e-02, 9.7305387e-01],\n",
       "       [9.7002012e-01, 2.9979913e-02],\n",
       "       [1.0000000e+00, 4.9464033e-09],\n",
       "       [1.0000000e+00, 6.8410212e-12],\n",
       "       [4.1452888e-03, 9.9585468e-01],\n",
       "       [9.9999917e-01, 8.5029785e-07],\n",
       "       [1.0320172e-02, 9.8967981e-01],\n",
       "       [1.0000000e+00, 0.0000000e+00],\n",
       "       [1.0000000e+00, 1.7939030e-09],\n",
       "       [2.7800142e-03, 9.9722004e-01],\n",
       "       [1.0000000e+00, 1.1834962e-10],\n",
       "       [1.0000000e+00, 1.3403150e-21],\n",
       "       [1.3506409e-03, 9.9864942e-01],\n",
       "       [1.5300732e-03, 9.9846989e-01],\n",
       "       [7.4720412e-01, 2.5279585e-01],\n",
       "       [7.4019879e-03, 9.9259806e-01],\n",
       "       [1.0000000e+00, 1.8868568e-19],\n",
       "       [1.0000000e+00, 1.8332848e-08],\n",
       "       [1.0000000e+00, 2.1225779e-09],\n",
       "       [1.0000000e+00, 1.6326509e-09],\n",
       "       [1.0000000e+00, 2.6932587e-10],\n",
       "       [1.0000000e+00, 1.5529231e-09],\n",
       "       [1.0000000e+00, 4.5612289e-10],\n",
       "       [1.0000000e+00, 4.0499622e-24],\n",
       "       [1.0000000e+00, 8.8209548e-18],\n",
       "       [1.0000000e+00, 2.6382839e-27],\n",
       "       [1.0000000e+00, 1.3087040e-11],\n",
       "       [3.0796181e-03, 9.9692035e-01],\n",
       "       [1.9744346e-03, 9.9802554e-01],\n",
       "       [1.7348555e-03, 9.9826521e-01],\n",
       "       [4.4248961e-03, 9.9557507e-01],\n",
       "       [1.6583903e-03, 9.9834156e-01],\n",
       "       [5.2768108e-04, 9.9947232e-01],\n",
       "       [1.0000000e+00, 2.4558130e-20],\n",
       "       [1.0000000e+00, 1.7415207e-10],\n",
       "       [9.9869686e-01, 1.3032202e-03],\n",
       "       [9.0472922e-03, 9.9095273e-01],\n",
       "       [1.0000000e+00, 0.0000000e+00],\n",
       "       [2.9790648e-03, 9.9702090e-01],\n",
       "       [1.0000000e+00, 3.1003772e-10],\n",
       "       [1.0000000e+00, 1.7033065e-12],\n",
       "       [1.0000000e+00, 2.8338612e-17],\n",
       "       [1.0000000e+00, 6.0822472e-11],\n",
       "       [2.0499250e-03, 9.9795014e-01],\n",
       "       [1.0000000e+00, 5.9834975e-15],\n",
       "       [1.0000000e+00, 1.0499289e-09],\n",
       "       [9.9980122e-01, 1.9880688e-04],\n",
       "       [5.6872924e-04, 9.9943119e-01],\n",
       "       [7.6701277e-04, 9.9923301e-01],\n",
       "       [9.7838426e-01, 2.1615695e-02],\n",
       "       [9.9997377e-01, 2.6218106e-05],\n",
       "       [2.6870905e-03, 9.9731284e-01],\n",
       "       [1.0000000e+00, 4.3742484e-15],\n",
       "       [9.7588509e-01, 2.4114845e-02],\n",
       "       [1.6747006e-03, 9.9832529e-01],\n",
       "       [9.9999917e-01, 8.2306872e-07],\n",
       "       [1.0000000e+00, 9.8901026e-11],\n",
       "       [3.3660156e-03, 9.9663395e-01],\n",
       "       [2.0456712e-03, 9.9795425e-01],\n",
       "       [1.0000000e+00, 8.1640987e-12],\n",
       "       [1.0000000e+00, 2.4059773e-08],\n",
       "       [1.0000000e+00, 2.4988611e-10],\n",
       "       [1.0000000e+00, 0.0000000e+00],\n",
       "       [8.2156863e-03, 9.9178433e-01],\n",
       "       [4.8080664e-03, 9.9519193e-01],\n",
       "       [1.0000000e+00, 3.3452167e-14],\n",
       "       [1.0000000e+00, 2.9592963e-11],\n",
       "       [1.2992774e-01, 8.7007231e-01],\n",
       "       [1.0000000e+00, 5.6072752e-13],\n",
       "       [1.0000000e+00, 1.1799558e-09],\n",
       "       [1.0000000e+00, 1.5008623e-12],\n",
       "       [1.0000000e+00, 2.4311469e-22],\n",
       "       [1.0000000e+00, 2.2322006e-19],\n",
       "       [1.0000000e+00, 2.9162370e-10],\n",
       "       [1.0000000e+00, 8.7422169e-14],\n",
       "       [9.9999988e-01, 1.3617833e-07],\n",
       "       [1.0000000e+00, 4.0097938e-09],\n",
       "       [5.5623529e-03, 9.9443769e-01],\n",
       "       [5.1458739e-03, 9.9485415e-01],\n",
       "       [1.0000000e+00, 1.9411271e-08],\n",
       "       [7.0684822e-03, 9.9293149e-01],\n",
       "       [4.6369862e-03, 9.9536300e-01],\n",
       "       [1.0000000e+00, 7.5239641e-15],\n",
       "       [1.0036434e-03, 9.9899632e-01],\n",
       "       [1.0000000e+00, 1.6422367e-08],\n",
       "       [9.7867829e-01, 2.1321723e-02],\n",
       "       [1.0000000e+00, 2.0888485e-25],\n",
       "       [1.0000000e+00, 1.6260655e-09],\n",
       "       [2.6223736e-03, 9.9737763e-01],\n",
       "       [1.3950717e-03, 9.9860495e-01],\n",
       "       [1.0000000e+00, 9.8360252e-17],\n",
       "       [1.8115185e-03, 9.9818844e-01],\n",
       "       [1.0000000e+00, 1.3558586e-09],\n",
       "       [1.0000000e+00, 8.5871514e-18],\n",
       "       [2.5405989e-03, 9.9745947e-01],\n",
       "       [9.9999988e-01, 9.7644019e-08],\n",
       "       [1.4774124e-03, 9.9852258e-01],\n",
       "       [8.1180334e-02, 9.1881973e-01],\n",
       "       [3.2371837e-01, 6.7628163e-01],\n",
       "       [7.0744688e-03, 9.9292552e-01],\n",
       "       [4.4404771e-04, 9.9955589e-01],\n",
       "       [9.9999976e-01, 2.2167379e-07],\n",
       "       [1.1881059e-03, 9.9881196e-01],\n",
       "       [9.9957353e-01, 4.2642749e-04],\n",
       "       [7.5791281e-01, 2.4208717e-01],\n",
       "       [1.5098390e-03, 9.9849010e-01],\n",
       "       [1.0000000e+00, 5.7891554e-09],\n",
       "       [2.3156870e-03, 9.9768436e-01],\n",
       "       [1.0000000e+00, 0.0000000e+00],\n",
       "       [1.0000000e+00, 5.4495599e-09],\n",
       "       [2.5248328e-02, 9.7475171e-01],\n",
       "       [1.0000000e+00, 7.1951450e-10],\n",
       "       [9.9999988e-01, 8.0091844e-08]], dtype=float32)"
      ]
     },
     "execution_count": 31,
     "metadata": {},
     "output_type": "execute_result"
    }
   ],
   "source": [
    "y_pred"
   ]
  },
  {
   "cell_type": "code",
   "execution_count": 32,
   "metadata": {},
   "outputs": [],
   "source": [
    "import numpy as np\n",
    "y_pred = np.argmax(y_pred, axis=1)"
   ]
  },
  {
   "cell_type": "code",
   "execution_count": 33,
   "metadata": {},
   "outputs": [
    {
     "data": {
      "text/plain": [
       "array([0, 0, 0, 0, 1, 1, 1, 1, 0, 1, 1, 0, 1, 1, 0, 1, 0, 0, 0, 1, 0, 1,\n",
       "       0, 0, 0, 1, 0, 1, 0, 0, 1, 0, 0, 1, 1, 0, 1, 0, 0, 0, 0, 0, 0, 0,\n",
       "       0, 0, 0, 0, 1, 1, 1, 1, 1, 1, 0, 0, 0, 1, 0, 1, 0, 0, 0, 0, 1, 0,\n",
       "       0, 0, 1, 1, 0, 0, 1, 0, 0, 1, 0, 0, 1, 1, 0, 0, 0, 0, 1, 1, 0, 0,\n",
       "       1, 0, 0, 0, 0, 0, 0, 0, 0, 0, 1, 1, 0, 1, 1, 0, 1, 0, 0, 0, 0, 1,\n",
       "       1, 0, 1, 0, 0, 1, 0, 1, 1, 1, 1, 1, 0, 1, 0, 0, 1, 0, 1, 0, 0, 1,\n",
       "       0, 0])"
      ]
     },
     "execution_count": 33,
     "metadata": {},
     "output_type": "execute_result"
    }
   ],
   "source": [
    "y_pred"
   ]
  },
  {
   "cell_type": "code",
   "execution_count": null,
   "metadata": {},
   "outputs": [],
   "source": []
  },
  {
   "cell_type": "code",
   "execution_count": 34,
   "metadata": {},
   "outputs": [],
   "source": [
    "from tensorflow.keras.models import load_model\n",
    "from tensorflow.keras.preprocessing import image"
   ]
  },
  {
   "cell_type": "code",
   "execution_count": 35,
   "metadata": {},
   "outputs": [],
   "source": [
    "model=load_model('model_vgg19.h5')"
   ]
  },
  {
   "cell_type": "code",
   "execution_count": null,
   "metadata": {},
   "outputs": [],
   "source": []
  },
  {
   "cell_type": "code",
   "execution_count": 36,
   "metadata": {},
   "outputs": [],
   "source": [
    "img=image.load_img('Dataset/Test/Uninfected/2.png',target_size=(224,224))\n",
    "\n"
   ]
  },
  {
   "cell_type": "code",
   "execution_count": 37,
   "metadata": {},
   "outputs": [
    {
     "data": {
      "text/plain": [
       "array([[[0., 0., 0.],\n",
       "        [0., 0., 0.],\n",
       "        [0., 0., 0.],\n",
       "        ...,\n",
       "        [0., 0., 0.],\n",
       "        [0., 0., 0.],\n",
       "        [0., 0., 0.]],\n",
       "\n",
       "       [[0., 0., 0.],\n",
       "        [0., 0., 0.],\n",
       "        [0., 0., 0.],\n",
       "        ...,\n",
       "        [0., 0., 0.],\n",
       "        [0., 0., 0.],\n",
       "        [0., 0., 0.]],\n",
       "\n",
       "       [[0., 0., 0.],\n",
       "        [0., 0., 0.],\n",
       "        [0., 0., 0.],\n",
       "        ...,\n",
       "        [0., 0., 0.],\n",
       "        [0., 0., 0.],\n",
       "        [0., 0., 0.]],\n",
       "\n",
       "       ...,\n",
       "\n",
       "       [[0., 0., 0.],\n",
       "        [0., 0., 0.],\n",
       "        [0., 0., 0.],\n",
       "        ...,\n",
       "        [0., 0., 0.],\n",
       "        [0., 0., 0.],\n",
       "        [0., 0., 0.]],\n",
       "\n",
       "       [[0., 0., 0.],\n",
       "        [0., 0., 0.],\n",
       "        [0., 0., 0.],\n",
       "        ...,\n",
       "        [0., 0., 0.],\n",
       "        [0., 0., 0.],\n",
       "        [0., 0., 0.]],\n",
       "\n",
       "       [[0., 0., 0.],\n",
       "        [0., 0., 0.],\n",
       "        [0., 0., 0.],\n",
       "        ...,\n",
       "        [0., 0., 0.],\n",
       "        [0., 0., 0.],\n",
       "        [0., 0., 0.]]], dtype=float32)"
      ]
     },
     "execution_count": 37,
     "metadata": {},
     "output_type": "execute_result"
    }
   ],
   "source": [
    "x=image.img_to_array(img)\n",
    "x"
   ]
  },
  {
   "cell_type": "code",
   "execution_count": 38,
   "metadata": {},
   "outputs": [
    {
     "data": {
      "text/plain": [
       "(224, 224, 3)"
      ]
     },
     "execution_count": 38,
     "metadata": {},
     "output_type": "execute_result"
    }
   ],
   "source": [
    "x.shape"
   ]
  },
  {
   "cell_type": "code",
   "execution_count": 39,
   "metadata": {},
   "outputs": [],
   "source": [
    "x=x/255"
   ]
  },
  {
   "cell_type": "code",
   "execution_count": 40,
   "metadata": {},
   "outputs": [
    {
     "data": {
      "text/plain": [
       "(1, 224, 224, 3)"
      ]
     },
     "execution_count": 40,
     "metadata": {},
     "output_type": "execute_result"
    }
   ],
   "source": [
    "x=np.expand_dims(x,axis=0)\n",
    "img_data=preprocess_input(x)\n",
    "img_data.shape"
   ]
  },
  {
   "cell_type": "code",
   "execution_count": 41,
   "metadata": {},
   "outputs": [
    {
     "data": {
      "text/plain": [
       "array([[1., 0.]], dtype=float32)"
      ]
     },
     "execution_count": 41,
     "metadata": {},
     "output_type": "execute_result"
    }
   ],
   "source": [
    "model.predict(img_data)"
   ]
  },
  {
   "cell_type": "code",
   "execution_count": 42,
   "metadata": {},
   "outputs": [],
   "source": [
    "a=np.argmax(model.predict(img_data), axis=1)"
   ]
  },
  {
   "cell_type": "code",
   "execution_count": 43,
   "metadata": {},
   "outputs": [
    {
     "name": "stdout",
     "output_type": "stream",
     "text": [
      "Infected\n"
     ]
    }
   ],
   "source": [
    "if(a==1):\n",
    "    print(\"Uninfected\")\n",
    "else:\n",
    "    print(\"Infected\")"
   ]
  },
  {
   "cell_type": "code",
   "execution_count": null,
   "metadata": {},
   "outputs": [],
   "source": []
  },
  {
   "cell_type": "code",
   "execution_count": null,
   "metadata": {},
   "outputs": [],
   "source": []
  }
 ],
 "metadata": {
  "kernelspec": {
   "display_name": "Python 3",
   "language": "python",
   "name": "python3"
  },
  "language_info": {
   "codemirror_mode": {
    "name": "ipython",
    "version": 3
   },
   "file_extension": ".py",
   "mimetype": "text/x-python",
   "name": "python",
   "nbconvert_exporter": "python",
   "pygments_lexer": "ipython3",
   "version": "3.7.6"
  }
 },
 "nbformat": 4,
 "nbformat_minor": 2
}
